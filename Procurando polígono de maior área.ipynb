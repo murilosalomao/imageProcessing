{
 "cells": [
  {
   "cell_type": "markdown",
   "metadata": {},
   "source": [
    "Image in greyscale"
   ]
  },
  {
   "cell_type": "code",
   "execution_count": 38,
   "metadata": {},
   "outputs": [
    {
     "name": "stdout",
     "output_type": "stream",
     "text": [
      "38\n"
     ]
    },
    {
     "data": {
      "image/png": "[encoded data removed]",
      "text/plain": [
       "<Figure size 432x288 with 1 Axes>"
      ]
     },
     "metadata": {
      "needs_background": "light"
     },
     "output_type": "display_data"
    }
   ],
   "source": [
    "import matplotlib.pyplot as plt\n",
    "import cv2\n",
    "import numpy as np\n",
    "\n",
    "# imgName = 'imgs/img_883.jpg' # OK\n",
    "# imgName = 'imgs/img_1001.jpg' # OK\n",
    "# imgName = 'imgs/img_1020.jpg'\n",
    "# imgName = 'imgs/img_1099.jpg'\n",
    "# imgName = 'imgs/img_1015.jpg'\n",
    "# imgName = 'imgs/163_icdar13.png'\n",
    "# imgName = 'imgs/img_899.jpg'\n",
    "# imgName = 'imgs/img_1162.jpg'\n",
    "\n",
    "# Leitura da imagem normal\n",
    "regularImg = cv2.imread(imgName)\n",
    "\n",
    "# Leitura da imagem em tons de cinza\n",
    "img = cv2.imread(imgName, cv2.IMREAD_GRAYSCALE);\n",
    "\n",
    "# Suavização da imagem\n",
    "img = cv2.GaussianBlur(img, (5, 5), 0)\n",
    "\n",
    "# Binarização da imagem\n",
    "_, threshImg = cv2.threshold(img, 127, 255, 0)\n",
    "\n",
    "# Encontrando contornos da imagem\n",
    "contours, hierarchy = cv2.findContours(threshImg, cv2.RETR_TREE, cv2.CHAIN_APPROX_SIMPLE)\n",
    "print(len(contours))\n",
    "\n",
    "maxCValue = 0\n",
    "for c in contours:\n",
    "    # Perímetro de cada contorno\n",
    "    perimeter = cv2.arcLength(c, True)\n",
    "    \n",
    "    # Área de cada contorno\n",
    "    area = cv2.contourArea(c)\n",
    "    \n",
    "    # Aproximando contorno para um polígono\n",
    "    approx = cv2.approxPolyDP(c, 0.005 * perimeter, True)\n",
    "    cv2.drawContours(regularImg, [c], -1, (0, 255, 0), 2)\n",
    "    # Se ele tiver 4 lados\n",
    "    if len(approx) == 4:\n",
    "        # Extrai localização do polígono\n",
    "        (x, y, w, h) = cv2.boundingRect(approx)\n",
    "    \n",
    "        # Verifica se é o polígono de maior área até o momento\n",
    "        if w*h > maxCValue:\n",
    "            largestC = c\n",
    "            maxCValue = w*h\n",
    "\n",
    "# Desenha o polígono de maior área na imagem original\n",
    "cv2.drawContours(regularImg, [largestC], -1, (0, 255, 0), 2)\n",
    "    \n",
    "maxX = maxY = 0\n",
    "minX = minY = img.shape[0]\n",
    "for c in largestC:\n",
    "    c = c[0]\n",
    "#     print(c)\n",
    "    if c[0] > maxX:\n",
    "        maxX = c[0]\n",
    "    elif c[0] < minX:\n",
    "        minX = c[0]\n",
    "    \n",
    "    if c[1] > maxY:\n",
    "        maxY = c[1]\n",
    "    elif c[1] < minY:\n",
    "        minY = c[1]\n",
    "    \n",
    "crop_img = img[minY:maxY, minX:maxX]\n",
    "plt.imshow(crop_img, cmap='gray');\n",
    "# plt.imshow(regularImg, cmap='gray');"
   ]
  },
  {
   "cell_type": "markdown",
   "metadata": {},
   "source": [
    "Histograma da imagem"
   ]
  },
  {
   "cell_type": "code",
   "execution_count": 146,
   "metadata": {
    "scrolled": true
   },
   "outputs": [
    {
     "name": "stdout",
     "output_type": "stream",
     "text": [
      "102.6591101489938\n",
      "246.0\n"
     ]
    },
    {
     "data": {
      "image/png": "[encoded data removed]",
      "text/plain": [
       "<Figure size 432x288 with 1 Axes>"
      ]
     },
     "metadata": {
      "needs_background": "light"
     },
     "output_type": "display_data"
    }
   ],
   "source": [
    "def histogram(A, no_levels):\n",
    "    # gets the size of the input matrix\n",
    "    N, M = A.shape\n",
    "    # creates an empty histogram with size proportional to the number of graylevels \n",
    "    hist = np.zeros(no_levels).astype(int)\n",
    "\n",
    "    # computes for all levels in the range\n",
    "    for i in range(no_levels):\n",
    "        # the np.where() function returns the indices for all coordinates \n",
    "        # in some array matching the condition. In this case, all pixels\n",
    "        # that have value 'i'\n",
    "        pixels_value_i = np.where(A == i)\n",
    "        \n",
    "        #print(pixels_value_i)  # uncomment to print array of coordinates\n",
    "        \n",
    "        # by counting how many coordinates the np.where function returned, \n",
    "        # we can assign it at the respective histogram bin\n",
    "        # this is done by getting the size of the vector of coordinates\n",
    "        hist[i] = pixels_value_i[0].shape[0]\n",
    "            \n",
    "    return(hist)\n",
    "\n",
    "hist = histogram(img, 256);\n",
    "plt.bar(range(256), hist);\n",
    "print(np.mean(img))\n",
    "print(np.percentile(img, 99))"
   ]
  },
  {
   "cell_type": "markdown",
   "metadata": {},
   "source": [
    "As variações podem ser:\n",
    "- Na binarização, alterando o threshold;\n",
    "- Na área do contorno adquirido;"
   ]
  }
 ],
 "metadata": {
  "kernelspec": {
   "display_name": "Python 3",
   "language": "python",
   "name": "python3"
  },
  "language_info": {
   "codemirror_mode": {
    "name": "ipython",
    "version": 3
   },
   "file_extension": ".py",
   "mimetype": "text/x-python",
   "name": "python",
   "nbconvert_exporter": "python",
   "pygments_lexer": "ipython3",
   "version": "3.7.3"
  }
 },
 "nbformat": 4,
 "nbformat_minor": 2
}
